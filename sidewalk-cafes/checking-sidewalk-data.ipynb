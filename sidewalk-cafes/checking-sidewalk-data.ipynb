{
 "cells": [
  {
   "cell_type": "markdown",
   "metadata": {},
   "source": [
    "# Looking At Sidewalk Cafe Liceses and Applications"
   ]
  },
  {
   "cell_type": "code",
   "execution_count": 1,
   "metadata": {
    "collapsed": true
   },
   "outputs": [],
   "source": [
    "import pandas as pd\n",
    "import matplotlib as mpl\n",
    "%matplotlib inline"
   ]
  },
  {
   "cell_type": "code",
   "execution_count": 2,
   "metadata": {
    "collapsed": true
   },
   "outputs": [],
   "source": [
    "cafes = pd.read_csv(\"./Sidewalk_Caf__Licenses_and_Applications.csv\")"
   ]
  },
  {
   "cell_type": "code",
   "execution_count": 3,
   "metadata": {
    "collapsed": false
   },
   "outputs": [
    {
     "data": {
      "text/html": [
       "<div>\n",
       "<table border=\"1\" class=\"dataframe\">\n",
       "  <thead>\n",
       "    <tr style=\"text-align: right;\">\n",
       "      <th></th>\n",
       "      <th>LICENSE_NBR</th>\n",
       "      <th>LIC_STATUS</th>\n",
       "      <th>BUSINESS_NAME</th>\n",
       "      <th>BUSINESS_NAME2</th>\n",
       "      <th>BUILDING</th>\n",
       "      <th>STREET</th>\n",
       "      <th>CITY</th>\n",
       "      <th>STATE</th>\n",
       "      <th>ZIP</th>\n",
       "      <th>SWC_TYPE</th>\n",
       "      <th>...</th>\n",
       "      <th>HEARING</th>\n",
       "      <th>HEARING_DD</th>\n",
       "      <th>HEARING_PUBLIC</th>\n",
       "      <th>HEARING_PUBLIC_DD</th>\n",
       "      <th>CC</th>\n",
       "      <th>CC_DD</th>\n",
       "      <th>MOO</th>\n",
       "      <th>MOO_DD</th>\n",
       "      <th>ISSUANCE</th>\n",
       "      <th>ISSUANCE_DD</th>\n",
       "    </tr>\n",
       "  </thead>\n",
       "  <tbody>\n",
       "    <tr>\n",
       "      <th>0</th>\n",
       "      <td>2010321-DCA</td>\n",
       "      <td>Active</td>\n",
       "      <td>RF BROADWAY LLC</td>\n",
       "      <td>RED FARM</td>\n",
       "      <td>2170</td>\n",
       "      <td>BROADWAY</td>\n",
       "      <td>NEW YORK</td>\n",
       "      <td>NY</td>\n",
       "      <td>10024</td>\n",
       "      <td>Unenclosed</td>\n",
       "      <td>...</td>\n",
       "      <td>Waived</td>\n",
       "      <td>05/25/2016</td>\n",
       "      <td>NaN</td>\n",
       "      <td>NaN</td>\n",
       "      <td>Approved</td>\n",
       "      <td>07/29/2016</td>\n",
       "      <td>Approved</td>\n",
       "      <td>07/29/2016</td>\n",
       "      <td>Issued</td>\n",
       "      <td>07/29/2016</td>\n",
       "    </tr>\n",
       "    <tr>\n",
       "      <th>1</th>\n",
       "      <td>2051492-DCA</td>\n",
       "      <td>Active</td>\n",
       "      <td>SAL &amp; VIK CORP.</td>\n",
       "      <td>BELLA VIA RESTAURANT</td>\n",
       "      <td>4746</td>\n",
       "      <td>VERNON BLVD</td>\n",
       "      <td>LONG ISLAND CITY</td>\n",
       "      <td>NY</td>\n",
       "      <td>11101</td>\n",
       "      <td>Unenclosed</td>\n",
       "      <td>...</td>\n",
       "      <td>Recommendation Issued</td>\n",
       "      <td>04/19/2017</td>\n",
       "      <td>SWC Public Hearing</td>\n",
       "      <td>04/19/2017</td>\n",
       "      <td>Review Period Expired</td>\n",
       "      <td>05/10/2017</td>\n",
       "      <td>Approved</td>\n",
       "      <td>06/02/2017</td>\n",
       "      <td>Issued</td>\n",
       "      <td>06/02/2017</td>\n",
       "    </tr>\n",
       "    <tr>\n",
       "      <th>2</th>\n",
       "      <td>2042117-DCA</td>\n",
       "      <td>Active</td>\n",
       "      <td>AIO GOURMET LLC</td>\n",
       "      <td>LE BON CROIX</td>\n",
       "      <td>652</td>\n",
       "      <td>10TH AVE</td>\n",
       "      <td>NEW YORK</td>\n",
       "      <td>NY</td>\n",
       "      <td>10036</td>\n",
       "      <td>Unenclosed</td>\n",
       "      <td>...</td>\n",
       "      <td>Recommendation Issued</td>\n",
       "      <td>08/08/2016</td>\n",
       "      <td>SWC Public Hearing</td>\n",
       "      <td>06/15/2016</td>\n",
       "      <td>Approved</td>\n",
       "      <td>03/13/2017</td>\n",
       "      <td>Approved</td>\n",
       "      <td>03/13/2017</td>\n",
       "      <td>Issued</td>\n",
       "      <td>03/13/2017</td>\n",
       "    </tr>\n",
       "    <tr>\n",
       "      <th>3</th>\n",
       "      <td>NaN</td>\n",
       "      <td>Inactive</td>\n",
       "      <td>BALCONY CAFE, LLC</td>\n",
       "      <td>NaN</td>\n",
       "      <td>78</td>\n",
       "      <td>READE ST</td>\n",
       "      <td>NEW YORK</td>\n",
       "      <td>NY</td>\n",
       "      <td>10007</td>\n",
       "      <td>Unenclosed</td>\n",
       "      <td>...</td>\n",
       "      <td>Recommendation Issued</td>\n",
       "      <td>07/06/2017</td>\n",
       "      <td>SWC Public Hearing</td>\n",
       "      <td>06/07/2017</td>\n",
       "      <td>Pending Review</td>\n",
       "      <td>07/13/2017</td>\n",
       "      <td>Pending Review</td>\n",
       "      <td>NaN</td>\n",
       "      <td>Pending Review</td>\n",
       "      <td>NaN</td>\n",
       "    </tr>\n",
       "    <tr>\n",
       "      <th>4</th>\n",
       "      <td>2055050-DCA</td>\n",
       "      <td>Active</td>\n",
       "      <td>GREAT LAKES NY NY INC</td>\n",
       "      <td>KO SUSHI</td>\n",
       "      <td>1329</td>\n",
       "      <td>2ND AVE</td>\n",
       "      <td>NEW YORK</td>\n",
       "      <td>NY</td>\n",
       "      <td>10021</td>\n",
       "      <td>Enclosed</td>\n",
       "      <td>...</td>\n",
       "      <td>Pending Review</td>\n",
       "      <td>NaN</td>\n",
       "      <td>NaN</td>\n",
       "      <td>NaN</td>\n",
       "      <td>Pending Review</td>\n",
       "      <td>NaN</td>\n",
       "      <td>Pending Review</td>\n",
       "      <td>NaN</td>\n",
       "      <td>Pending Review</td>\n",
       "      <td>NaN</td>\n",
       "    </tr>\n",
       "  </tbody>\n",
       "</table>\n",
       "<p>5 rows × 47 columns</p>\n",
       "</div>"
      ],
      "text/plain": [
       "   LICENSE_NBR LIC_STATUS          BUSINESS_NAME        BUSINESS_NAME2  \\\n",
       "0  2010321-DCA     Active        RF BROADWAY LLC              RED FARM   \n",
       "1  2051492-DCA     Active        SAL & VIK CORP.  BELLA VIA RESTAURANT   \n",
       "2  2042117-DCA     Active        AIO GOURMET LLC          LE BON CROIX   \n",
       "3          NaN   Inactive      BALCONY CAFE, LLC                   NaN   \n",
       "4  2055050-DCA     Active  GREAT LAKES NY NY INC              KO SUSHI   \n",
       "\n",
       "  BUILDING       STREET              CITY STATE    ZIP    SWC_TYPE  \\\n",
       "0     2170     BROADWAY          NEW YORK    NY  10024  Unenclosed   \n",
       "1     4746  VERNON BLVD  LONG ISLAND CITY    NY  11101  Unenclosed   \n",
       "2      652     10TH AVE          NEW YORK    NY  10036  Unenclosed   \n",
       "3       78     READE ST          NEW YORK    NY  10007  Unenclosed   \n",
       "4     1329      2ND AVE          NEW YORK    NY  10021    Enclosed   \n",
       "\n",
       "      ...                    HEARING  HEARING_DD      HEARING_PUBLIC  \\\n",
       "0     ...                     Waived  05/25/2016                 NaN   \n",
       "1     ...      Recommendation Issued  04/19/2017  SWC Public Hearing   \n",
       "2     ...      Recommendation Issued  08/08/2016  SWC Public Hearing   \n",
       "3     ...      Recommendation Issued  07/06/2017  SWC Public Hearing   \n",
       "4     ...             Pending Review         NaN                 NaN   \n",
       "\n",
       "  HEARING_PUBLIC_DD                     CC       CC_DD             MOO  \\\n",
       "0               NaN               Approved  07/29/2016        Approved   \n",
       "1        04/19/2017  Review Period Expired  05/10/2017        Approved   \n",
       "2        06/15/2016               Approved  03/13/2017        Approved   \n",
       "3        06/07/2017         Pending Review  07/13/2017  Pending Review   \n",
       "4               NaN         Pending Review         NaN  Pending Review   \n",
       "\n",
       "       MOO_DD        ISSUANCE ISSUANCE_DD  \n",
       "0  07/29/2016          Issued  07/29/2016  \n",
       "1  06/02/2017          Issued  06/02/2017  \n",
       "2  03/13/2017          Issued  03/13/2017  \n",
       "3         NaN  Pending Review         NaN  \n",
       "4         NaN  Pending Review         NaN  \n",
       "\n",
       "[5 rows x 47 columns]"
      ]
     },
     "execution_count": 3,
     "metadata": {},
     "output_type": "execute_result"
    }
   ],
   "source": [
    "cafes.head()"
   ]
  },
  {
   "cell_type": "markdown",
   "metadata": {},
   "source": [
    "## Initial Look At The Data"
   ]
  },
  {
   "cell_type": "code",
   "execution_count": 4,
   "metadata": {
    "collapsed": false
   },
   "outputs": [
    {
     "data": {
      "text/html": [
       "<div>\n",
       "<table border=\"1\" class=\"dataframe\">\n",
       "  <thead>\n",
       "    <tr style=\"text-align: right;\">\n",
       "      <th></th>\n",
       "      <th>ZIP</th>\n",
       "      <th>SWC_SQ_FT</th>\n",
       "      <th>SWC_TABLES</th>\n",
       "      <th>SWC_CHAIRS</th>\n",
       "      <th>LATITUDE</th>\n",
       "      <th>LONGITUDE</th>\n",
       "      <th>COMMUNITY_DISTRICT</th>\n",
       "      <th>CITY_COUNCIL_DISTRICT</th>\n",
       "      <th>APP_SQ_FT</th>\n",
       "      <th>APP_TABLES</th>\n",
       "      <th>APP_CHAIRS</th>\n",
       "    </tr>\n",
       "  </thead>\n",
       "  <tbody>\n",
       "    <tr>\n",
       "      <th>count</th>\n",
       "      <td>1638.000000</td>\n",
       "      <td>1560.000000</td>\n",
       "      <td>1638.000000</td>\n",
       "      <td>1638.000000</td>\n",
       "      <td>1638.000000</td>\n",
       "      <td>1638.000000</td>\n",
       "      <td>1638.000000</td>\n",
       "      <td>1638.000000</td>\n",
       "      <td>1561.00000</td>\n",
       "      <td>1638.000000</td>\n",
       "      <td>1638.000000</td>\n",
       "    </tr>\n",
       "    <tr>\n",
       "      <th>mean</th>\n",
       "      <td>10321.478632</td>\n",
       "      <td>257.190385</td>\n",
       "      <td>10.404151</td>\n",
       "      <td>23.654457</td>\n",
       "      <td>40.748435</td>\n",
       "      <td>-73.973263</td>\n",
       "      <td>165.655067</td>\n",
       "      <td>10.793651</td>\n",
       "      <td>257.02114</td>\n",
       "      <td>10.412088</td>\n",
       "      <td>23.649573</td>\n",
       "    </tr>\n",
       "    <tr>\n",
       "      <th>std</th>\n",
       "      <td>504.789548</td>\n",
       "      <td>162.914024</td>\n",
       "      <td>6.707997</td>\n",
       "      <td>14.943028</td>\n",
       "      <td>0.049928</td>\n",
       "      <td>0.128861</td>\n",
       "      <td>104.960970</td>\n",
       "      <td>12.475174</td>\n",
       "      <td>163.05041</td>\n",
       "      <td>6.710564</td>\n",
       "      <td>14.954030</td>\n",
       "    </tr>\n",
       "    <tr>\n",
       "      <th>min</th>\n",
       "      <td>10001.000000</td>\n",
       "      <td>20.000000</td>\n",
       "      <td>1.000000</td>\n",
       "      <td>2.000000</td>\n",
       "      <td>40.112385</td>\n",
       "      <td>-77.519584</td>\n",
       "      <td>0.000000</td>\n",
       "      <td>0.000000</td>\n",
       "      <td>20.00000</td>\n",
       "      <td>1.000000</td>\n",
       "      <td>2.000000</td>\n",
       "    </tr>\n",
       "    <tr>\n",
       "      <th>25%</th>\n",
       "      <td>10013.000000</td>\n",
       "      <td>140.000000</td>\n",
       "      <td>6.000000</td>\n",
       "      <td>14.000000</td>\n",
       "      <td>40.723702</td>\n",
       "      <td>-73.993398</td>\n",
       "      <td>103.000000</td>\n",
       "      <td>3.000000</td>\n",
       "      <td>140.00000</td>\n",
       "      <td>6.000000</td>\n",
       "      <td>14.000000</td>\n",
       "    </tr>\n",
       "    <tr>\n",
       "      <th>50%</th>\n",
       "      <td>10024.000000</td>\n",
       "      <td>214.500000</td>\n",
       "      <td>9.000000</td>\n",
       "      <td>20.000000</td>\n",
       "      <td>40.743804</td>\n",
       "      <td>-73.977771</td>\n",
       "      <td>107.000000</td>\n",
       "      <td>5.000000</td>\n",
       "      <td>214.00000</td>\n",
       "      <td>9.000000</td>\n",
       "      <td>20.000000</td>\n",
       "    </tr>\n",
       "    <tr>\n",
       "      <th>75%</th>\n",
       "      <td>10464.750000</td>\n",
       "      <td>332.250000</td>\n",
       "      <td>13.000000</td>\n",
       "      <td>30.000000</td>\n",
       "      <td>40.774954</td>\n",
       "      <td>-73.954362</td>\n",
       "      <td>210.000000</td>\n",
       "      <td>15.000000</td>\n",
       "      <td>330.00000</td>\n",
       "      <td>13.000000</td>\n",
       "      <td>30.000000</td>\n",
       "    </tr>\n",
       "    <tr>\n",
       "      <th>max</th>\n",
       "      <td>11694.000000</td>\n",
       "      <td>1300.000000</td>\n",
       "      <td>52.000000</td>\n",
       "      <td>135.000000</td>\n",
       "      <td>40.906445</td>\n",
       "      <td>-73.783405</td>\n",
       "      <td>414.000000</td>\n",
       "      <td>48.000000</td>\n",
       "      <td>1300.00000</td>\n",
       "      <td>52.000000</td>\n",
       "      <td>135.000000</td>\n",
       "    </tr>\n",
       "  </tbody>\n",
       "</table>\n",
       "</div>"
      ],
      "text/plain": [
       "                ZIP    SWC_SQ_FT   SWC_TABLES   SWC_CHAIRS     LATITUDE  \\\n",
       "count   1638.000000  1560.000000  1638.000000  1638.000000  1638.000000   \n",
       "mean   10321.478632   257.190385    10.404151    23.654457    40.748435   \n",
       "std      504.789548   162.914024     6.707997    14.943028     0.049928   \n",
       "min    10001.000000    20.000000     1.000000     2.000000    40.112385   \n",
       "25%    10013.000000   140.000000     6.000000    14.000000    40.723702   \n",
       "50%    10024.000000   214.500000     9.000000    20.000000    40.743804   \n",
       "75%    10464.750000   332.250000    13.000000    30.000000    40.774954   \n",
       "max    11694.000000  1300.000000    52.000000   135.000000    40.906445   \n",
       "\n",
       "         LONGITUDE  COMMUNITY_DISTRICT  CITY_COUNCIL_DISTRICT   APP_SQ_FT  \\\n",
       "count  1638.000000         1638.000000            1638.000000  1561.00000   \n",
       "mean    -73.973263          165.655067              10.793651   257.02114   \n",
       "std       0.128861          104.960970              12.475174   163.05041   \n",
       "min     -77.519584            0.000000               0.000000    20.00000   \n",
       "25%     -73.993398          103.000000               3.000000   140.00000   \n",
       "50%     -73.977771          107.000000               5.000000   214.00000   \n",
       "75%     -73.954362          210.000000              15.000000   330.00000   \n",
       "max     -73.783405          414.000000              48.000000  1300.00000   \n",
       "\n",
       "        APP_TABLES   APP_CHAIRS  \n",
       "count  1638.000000  1638.000000  \n",
       "mean     10.412088    23.649573  \n",
       "std       6.710564    14.954030  \n",
       "min       1.000000     2.000000  \n",
       "25%       6.000000    14.000000  \n",
       "50%       9.000000    20.000000  \n",
       "75%      13.000000    30.000000  \n",
       "max      52.000000   135.000000  "
      ]
     },
     "execution_count": 4,
     "metadata": {},
     "output_type": "execute_result"
    }
   ],
   "source": [
    "cafes.describe()"
   ]
  },
  {
   "cell_type": "markdown",
   "metadata": {},
   "source": [
    "## Missing Values"
   ]
  },
  {
   "cell_type": "code",
   "execution_count": 5,
   "metadata": {
    "collapsed": false
   },
   "outputs": [
    {
     "data": {
      "text/plain": [
       "93"
      ]
     },
     "execution_count": 5,
     "metadata": {},
     "output_type": "execute_result"
    }
   ],
   "source": [
    "len(cafes[\n",
    "    cafes[\"LICENSE_NBR\"].isnull()\n",
    "])"
   ]
  },
  {
   "cell_type": "code",
   "execution_count": 6,
   "metadata": {
    "collapsed": false
   },
   "outputs": [
    {
     "data": {
      "text/plain": [
       "449"
      ]
     },
     "execution_count": 6,
     "metadata": {},
     "output_type": "execute_result"
    }
   ],
   "source": [
    "len(cafes[\n",
    "    cafes[\"BUSINESS_NAME2\"].isnull()\n",
    "])"
   ]
  },
  {
   "cell_type": "code",
   "execution_count": 7,
   "metadata": {
    "collapsed": false
   },
   "outputs": [
    {
     "data": {
      "text/plain": [
       "0"
      ]
     },
     "execution_count": 7,
     "metadata": {},
     "output_type": "execute_result"
    }
   ],
   "source": [
    "len(cafes[\n",
    "        cafes[\"SWC_CHAIRS\"].isnull()\n",
    "    ])"
   ]
  },
  {
   "cell_type": "markdown",
   "metadata": {},
   "source": [
    "## Looking for Outliers"
   ]
  },
  {
   "cell_type": "code",
   "execution_count": 8,
   "metadata": {
    "collapsed": false
   },
   "outputs": [
    {
     "data": {
      "image/png": "[encoded data removed]",
      "text/plain": [
       "<matplotlib.figure.Figure at 0x113ca1d50>"
      ]
     },
     "metadata": {},
     "output_type": "display_data"
    }
   ],
   "source": [
    "cafes[\"SWC_CHAIRS\"].hist()\n",
    "pass"
   ]
  },
  {
   "cell_type": "code",
   "execution_count": 9,
   "metadata": {
    "collapsed": false
   },
   "outputs": [
    {
     "data": {
      "text/html": [
       "<div>\n",
       "<table border=\"1\" class=\"dataframe\">\n",
       "  <thead>\n",
       "    <tr style=\"text-align: right;\">\n",
       "      <th></th>\n",
       "      <th>BUSINESS_NAME</th>\n",
       "      <th>BUSINESS_NAME2</th>\n",
       "      <th>BUILDING</th>\n",
       "      <th>STREET</th>\n",
       "      <th>CITY</th>\n",
       "      <th>ZIP</th>\n",
       "      <th>SWC_CHAIRS</th>\n",
       "    </tr>\n",
       "  </thead>\n",
       "  <tbody>\n",
       "    <tr>\n",
       "      <th>1167</th>\n",
       "      <td>675 HUDSON VAULT, LLC</td>\n",
       "      <td>DOS CAMINOS</td>\n",
       "      <td>675</td>\n",
       "      <td>HUDSON ST</td>\n",
       "      <td>NEW YORK</td>\n",
       "      <td>10014</td>\n",
       "      <td>135</td>\n",
       "    </tr>\n",
       "    <tr>\n",
       "      <th>81</th>\n",
       "      <td>JAMAICA BBQ LLC</td>\n",
       "      <td>DALLAS BBQ</td>\n",
       "      <td>8914</td>\n",
       "      <td>PARSONS BLVD</td>\n",
       "      <td>JAMAICA</td>\n",
       "      <td>11432</td>\n",
       "      <td>104</td>\n",
       "    </tr>\n",
       "    <tr>\n",
       "      <th>364</th>\n",
       "      <td>UNION SQUARE CATERING FACILITY INC.</td>\n",
       "      <td>NaN</td>\n",
       "      <td>29</td>\n",
       "      <td>UNION SQ W</td>\n",
       "      <td>NEW YORK</td>\n",
       "      <td>10003</td>\n",
       "      <td>102</td>\n",
       "    </tr>\n",
       "    <tr>\n",
       "      <th>326</th>\n",
       "      <td>BLUE WATER ASTORIA LLC</td>\n",
       "      <td>NaN</td>\n",
       "      <td>3129</td>\n",
       "      <td>DITMARS BLVD</td>\n",
       "      <td>ASTORIA</td>\n",
       "      <td>11105</td>\n",
       "      <td>99</td>\n",
       "    </tr>\n",
       "    <tr>\n",
       "      <th>1542</th>\n",
       "      <td>EAST PUB INC</td>\n",
       "      <td>PHEBE'S</td>\n",
       "      <td>359</td>\n",
       "      <td>BOWERY</td>\n",
       "      <td>NEW YORK</td>\n",
       "      <td>10003</td>\n",
       "      <td>96</td>\n",
       "    </tr>\n",
       "  </tbody>\n",
       "</table>\n",
       "</div>"
      ],
      "text/plain": [
       "                            BUSINESS_NAME BUSINESS_NAME2 BUILDING  \\\n",
       "1167                675 HUDSON VAULT, LLC    DOS CAMINOS      675   \n",
       "81                        JAMAICA BBQ LLC     DALLAS BBQ     8914   \n",
       "364   UNION SQUARE CATERING FACILITY INC.            NaN       29   \n",
       "326                BLUE WATER ASTORIA LLC            NaN     3129   \n",
       "1542                         EAST PUB INC        PHEBE'S      359   \n",
       "\n",
       "            STREET      CITY    ZIP  SWC_CHAIRS  \n",
       "1167     HUDSON ST  NEW YORK  10014         135  \n",
       "81    PARSONS BLVD   JAMAICA  11432         104  \n",
       "364     UNION SQ W  NEW YORK  10003         102  \n",
       "326   DITMARS BLVD   ASTORIA  11105          99  \n",
       "1542        BOWERY  NEW YORK  10003          96  "
      ]
     },
     "execution_count": 9,
     "metadata": {},
     "output_type": "execute_result"
    }
   ],
   "source": [
    "cafes.sort_values(\"SWC_CHAIRS\", ascending=False)[[\"BUSINESS_NAME\", \"BUSINESS_NAME2\", \"BUILDING\",\n",
    "                                                  \"STREET\", \"CITY\", \"ZIP\", \"SWC_CHAIRS\"]].head()"
   ]
  },
  {
   "cell_type": "code",
   "execution_count": 10,
   "metadata": {
    "collapsed": false
   },
   "outputs": [
    {
     "data": {
      "image/png": "[encoded data removed]",
      "text/plain": [
       "<matplotlib.figure.Figure at 0x113dbc4d0>"
      ]
     },
     "metadata": {},
     "output_type": "display_data"
    }
   ],
   "source": [
    "cafes[\"SWC_SQ_FT\"].hist()\n",
    "pass"
   ]
  },
  {
   "cell_type": "code",
   "execution_count": 11,
   "metadata": {
    "collapsed": false
   },
   "outputs": [
    {
     "data": {
      "text/html": [
       "<div>\n",
       "<table border=\"1\" class=\"dataframe\">\n",
       "  <thead>\n",
       "    <tr style=\"text-align: right;\">\n",
       "      <th></th>\n",
       "      <th>BUSINESS_NAME</th>\n",
       "      <th>BUSINESS_NAME2</th>\n",
       "      <th>BUILDING</th>\n",
       "      <th>STREET</th>\n",
       "      <th>CITY</th>\n",
       "      <th>ZIP</th>\n",
       "      <th>SWC_SQ_FT</th>\n",
       "    </tr>\n",
       "  </thead>\n",
       "  <tbody>\n",
       "    <tr>\n",
       "      <th>1167</th>\n",
       "      <td>675 HUDSON VAULT, LLC</td>\n",
       "      <td>DOS CAMINOS</td>\n",
       "      <td>675</td>\n",
       "      <td>HUDSON ST</td>\n",
       "      <td>NEW YORK</td>\n",
       "      <td>10014</td>\n",
       "      <td>1300.0</td>\n",
       "    </tr>\n",
       "    <tr>\n",
       "      <th>1067</th>\n",
       "      <td>HAVATEQUILA RESTAURANT PARTNERS, LLC</td>\n",
       "      <td>EL VEZ</td>\n",
       "      <td>259</td>\n",
       "      <td>VESEY ST</td>\n",
       "      <td>NEW YORK</td>\n",
       "      <td>10282</td>\n",
       "      <td>1253.0</td>\n",
       "    </tr>\n",
       "    <tr>\n",
       "      <th>257</th>\n",
       "      <td>BISCUITERIA LLC</td>\n",
       "      <td>NaN</td>\n",
       "      <td>3207</td>\n",
       "      <td>30TH AVE</td>\n",
       "      <td>ASTORIA</td>\n",
       "      <td>11102</td>\n",
       "      <td>1190.0</td>\n",
       "    </tr>\n",
       "    <tr>\n",
       "      <th>310</th>\n",
       "      <td>40-01 NORTHERN BOULEVARD CORP.</td>\n",
       "      <td>NaN</td>\n",
       "      <td>4001</td>\n",
       "      <td>NORTHERN BLVD</td>\n",
       "      <td>LONG IS CITY</td>\n",
       "      <td>11101</td>\n",
       "      <td>1044.0</td>\n",
       "    </tr>\n",
       "    <tr>\n",
       "      <th>542</th>\n",
       "      <td>LAFAYETTE STREET PARTNERS II, LLC</td>\n",
       "      <td>LAFAYETTE</td>\n",
       "      <td>380</td>\n",
       "      <td>LAFAYETTE ST</td>\n",
       "      <td>NEW YORK</td>\n",
       "      <td>10003</td>\n",
       "      <td>962.0</td>\n",
       "    </tr>\n",
       "  </tbody>\n",
       "</table>\n",
       "</div>"
      ],
      "text/plain": [
       "                             BUSINESS_NAME BUSINESS_NAME2 BUILDING  \\\n",
       "1167                 675 HUDSON VAULT, LLC    DOS CAMINOS      675   \n",
       "1067  HAVATEQUILA RESTAURANT PARTNERS, LLC         EL VEZ      259   \n",
       "257                        BISCUITERIA LLC            NaN     3207   \n",
       "310         40-01 NORTHERN BOULEVARD CORP.            NaN     4001   \n",
       "542      LAFAYETTE STREET PARTNERS II, LLC      LAFAYETTE      380   \n",
       "\n",
       "             STREET          CITY    ZIP  SWC_SQ_FT  \n",
       "1167      HUDSON ST      NEW YORK  10014     1300.0  \n",
       "1067       VESEY ST      NEW YORK  10282     1253.0  \n",
       "257        30TH AVE       ASTORIA  11102     1190.0  \n",
       "310   NORTHERN BLVD  LONG IS CITY  11101     1044.0  \n",
       "542    LAFAYETTE ST      NEW YORK  10003      962.0  "
      ]
     },
     "execution_count": 11,
     "metadata": {},
     "output_type": "execute_result"
    }
   ],
   "source": [
    "cafes.sort_values(\"SWC_SQ_FT\", ascending=False)[[\"BUSINESS_NAME\", \"BUSINESS_NAME2\", \"BUILDING\",\n",
    "                                                  \"STREET\", \"CITY\", \"ZIP\", \"SWC_SQ_FT\"]].head()"
   ]
  },
  {
   "cell_type": "markdown",
   "metadata": {},
   "source": [
    "## Grouping Data"
   ]
  },
  {
   "cell_type": "code",
   "execution_count": 12,
   "metadata": {
    "collapsed": false
   },
   "outputs": [],
   "source": [
    "zips = cafes.groupby(\"ZIP\")"
   ]
  },
  {
   "cell_type": "code",
   "execution_count": 13,
   "metadata": {
    "collapsed": false
   },
   "outputs": [
    {
     "data": {
      "text/plain": [
       "ZIP\n",
       "10014    3039\n",
       "10003    2371\n",
       "10024    2006\n",
       "10013    1688\n",
       "10025    1569\n",
       "Name: SWC_CHAIRS, dtype: int64"
      ]
     },
     "execution_count": 13,
     "metadata": {},
     "output_type": "execute_result"
    }
   ],
   "source": [
    "zips[\"SWC_CHAIRS\"].sum().sort_values(ascending=False).head()"
   ]
  },
  {
   "cell_type": "code",
   "execution_count": 14,
   "metadata": {
    "collapsed": false
   },
   "outputs": [
    {
     "data": {
      "text/plain": [
       "ZIP\n",
       "10014    31406.0\n",
       "10003    25264.0\n",
       "10024    18816.0\n",
       "10013    17786.0\n",
       "10025    15549.0\n",
       "Name: SWC_SQ_FT, dtype: float64"
      ]
     },
     "execution_count": 14,
     "metadata": {},
     "output_type": "execute_result"
    }
   ],
   "source": [
    "zips[\"SWC_SQ_FT\"].sum().sort_values(ascending=False).head()"
   ]
  },
  {
   "cell_type": "markdown",
   "metadata": {},
   "source": [
    "## Testing Ratios"
   ]
  },
  {
   "cell_type": "code",
   "execution_count": 15,
   "metadata": {
    "collapsed": true
   },
   "outputs": [],
   "source": [
    "cafes[\"chairs_per_sqft\"] = cafes[\"SWC_CHAIRS\"] / cafes[\"SWC_SQ_FT\"]"
   ]
  },
  {
   "cell_type": "code",
   "execution_count": 16,
   "metadata": {
    "collapsed": false
   },
   "outputs": [
    {
     "data": {
      "image/png": "[encoded data removed]",
      "text/plain": [
       "<matplotlib.figure.Figure at 0x113f17a90>"
      ]
     },
     "metadata": {},
     "output_type": "display_data"
    }
   ],
   "source": [
    "cafes[\"chairs_per_sqft\"].hist()\n",
    "pass"
   ]
  },
  {
   "cell_type": "code",
   "execution_count": 17,
   "metadata": {
    "collapsed": false
   },
   "outputs": [
    {
     "data": {
      "text/html": [
       "<div>\n",
       "<table border=\"1\" class=\"dataframe\">\n",
       "  <thead>\n",
       "    <tr style=\"text-align: right;\">\n",
       "      <th></th>\n",
       "      <th>BUSINESS_NAME</th>\n",
       "      <th>BUSINESS_NAME2</th>\n",
       "      <th>BUILDING</th>\n",
       "      <th>STREET</th>\n",
       "      <th>CITY</th>\n",
       "      <th>ZIP</th>\n",
       "      <th>SWC_CHAIRS</th>\n",
       "      <th>SWC_SQ_FT</th>\n",
       "    </tr>\n",
       "  </thead>\n",
       "  <tbody>\n",
       "    <tr>\n",
       "      <th>352</th>\n",
       "      <td>2122 BEEKMAN BAR LLC</td>\n",
       "      <td>ERV'S ON BEEKMAN</td>\n",
       "      <td>2122</td>\n",
       "      <td>BEEKMAN PL</td>\n",
       "      <td>BROOKLYN</td>\n",
       "      <td>11225</td>\n",
       "      <td>40</td>\n",
       "      <td>80.0</td>\n",
       "    </tr>\n",
       "    <tr>\n",
       "      <th>131</th>\n",
       "      <td>FOODS FOR JUNIORS INC</td>\n",
       "      <td>JUNIORS RESTAURANT</td>\n",
       "      <td>386</td>\n",
       "      <td>FLATBUSH AVENUE EXT</td>\n",
       "      <td>BROOKLYN</td>\n",
       "      <td>11201</td>\n",
       "      <td>58</td>\n",
       "      <td>123.0</td>\n",
       "    </tr>\n",
       "    <tr>\n",
       "      <th>296</th>\n",
       "      <td>SLAMMERS INC</td>\n",
       "      <td>SUTEISHI JAPANESE  RESTAURANT</td>\n",
       "      <td>24</td>\n",
       "      <td>PECK SLIP</td>\n",
       "      <td>NEW YORK</td>\n",
       "      <td>10038</td>\n",
       "      <td>18</td>\n",
       "      <td>50.0</td>\n",
       "    </tr>\n",
       "    <tr>\n",
       "      <th>1450</th>\n",
       "      <td>7 N 15TH ST., CORP.</td>\n",
       "      <td>GREENPOINT BEER &amp; ALE CO</td>\n",
       "      <td>7</td>\n",
       "      <td>N 15TH ST</td>\n",
       "      <td>BROOKLYN</td>\n",
       "      <td>11222</td>\n",
       "      <td>32</td>\n",
       "      <td>100.0</td>\n",
       "    </tr>\n",
       "    <tr>\n",
       "      <th>935</th>\n",
       "      <td>SECOND STREET RESTAURANT LLC</td>\n",
       "      <td>NaN</td>\n",
       "      <td>29</td>\n",
       "      <td>E 2ND ST</td>\n",
       "      <td>NEW YORK</td>\n",
       "      <td>10003</td>\n",
       "      <td>32</td>\n",
       "      <td>119.0</td>\n",
       "    </tr>\n",
       "  </tbody>\n",
       "</table>\n",
       "</div>"
      ],
      "text/plain": [
       "                     BUSINESS_NAME                 BUSINESS_NAME2 BUILDING  \\\n",
       "352           2122 BEEKMAN BAR LLC               ERV'S ON BEEKMAN     2122   \n",
       "131          FOODS FOR JUNIORS INC             JUNIORS RESTAURANT      386   \n",
       "296                   SLAMMERS INC  SUTEISHI JAPANESE  RESTAURANT       24   \n",
       "1450           7 N 15TH ST., CORP.       GREENPOINT BEER & ALE CO        7   \n",
       "935   SECOND STREET RESTAURANT LLC                            NaN       29   \n",
       "\n",
       "                   STREET      CITY    ZIP  SWC_CHAIRS  SWC_SQ_FT  \n",
       "352            BEEKMAN PL  BROOKLYN  11225          40       80.0  \n",
       "131   FLATBUSH AVENUE EXT  BROOKLYN  11201          58      123.0  \n",
       "296             PECK SLIP  NEW YORK  10038          18       50.0  \n",
       "1450            N 15TH ST  BROOKLYN  11222          32      100.0  \n",
       "935              E 2ND ST  NEW YORK  10003          32      119.0  "
      ]
     },
     "execution_count": 17,
     "metadata": {},
     "output_type": "execute_result"
    }
   ],
   "source": [
    "cafes.sort_values(\"chairs_per_sqft\", ascending=False)[[\"BUSINESS_NAME\", \"BUSINESS_NAME2\", \"BUILDING\",\n",
    "                                                  \"STREET\", \"CITY\", \"ZIP\", \"SWC_CHAIRS\", \"SWC_SQ_FT\"]].head()"
   ]
  },
  {
   "cell_type": "code",
   "execution_count": 18,
   "metadata": {
    "collapsed": false
   },
   "outputs": [
    {
     "data": {
      "text/html": [
       "<div>\n",
       "<table border=\"1\" class=\"dataframe\">\n",
       "  <thead>\n",
       "    <tr style=\"text-align: right;\">\n",
       "      <th></th>\n",
       "      <th>BUSINESS_NAME</th>\n",
       "      <th>BUSINESS_NAME2</th>\n",
       "      <th>BUILDING</th>\n",
       "      <th>STREET</th>\n",
       "      <th>CITY</th>\n",
       "      <th>ZIP</th>\n",
       "      <th>SWC_CHAIRS</th>\n",
       "      <th>SWC_SQ_FT</th>\n",
       "    </tr>\n",
       "  </thead>\n",
       "  <tbody>\n",
       "    <tr>\n",
       "      <th>1158</th>\n",
       "      <td>STARBUCKS CORPORATION</td>\n",
       "      <td>STARBUCKS COFFEE COMPANY</td>\n",
       "      <td>7419</td>\n",
       "      <td>3RD AVE</td>\n",
       "      <td>BROOKLYN</td>\n",
       "      <td>11209</td>\n",
       "      <td>6</td>\n",
       "      <td>260.0</td>\n",
       "    </tr>\n",
       "    <tr>\n",
       "      <th>490</th>\n",
       "      <td>PBQ LLC</td>\n",
       "      <td>BARBACON</td>\n",
       "      <td>836</td>\n",
       "      <td>9TH AVE</td>\n",
       "      <td>NEW YORK</td>\n",
       "      <td>10019</td>\n",
       "      <td>2</td>\n",
       "      <td>78.0</td>\n",
       "    </tr>\n",
       "    <tr>\n",
       "      <th>1067</th>\n",
       "      <td>HAVATEQUILA RESTAURANT PARTNERS, LLC</td>\n",
       "      <td>EL VEZ</td>\n",
       "      <td>259</td>\n",
       "      <td>VESEY ST</td>\n",
       "      <td>NEW YORK</td>\n",
       "      <td>10282</td>\n",
       "      <td>38</td>\n",
       "      <td>1253.0</td>\n",
       "    </tr>\n",
       "    <tr>\n",
       "      <th>1416</th>\n",
       "      <td>1414 HOLDINGS, L.L.C.</td>\n",
       "      <td>1 HOTEL CENTRAL PARK</td>\n",
       "      <td>1414</td>\n",
       "      <td>AVENUE OF THE AMERICAS</td>\n",
       "      <td>NEW YORK</td>\n",
       "      <td>10019</td>\n",
       "      <td>8</td>\n",
       "      <td>255.0</td>\n",
       "    </tr>\n",
       "    <tr>\n",
       "      <th>954</th>\n",
       "      <td>IL SOLE, LLC</td>\n",
       "      <td>SOLELUNA</td>\n",
       "      <td>4345</td>\n",
       "      <td>40TH STREET</td>\n",
       "      <td>SUNNYSIDE</td>\n",
       "      <td>11104</td>\n",
       "      <td>10</td>\n",
       "      <td>312.0</td>\n",
       "    </tr>\n",
       "  </tbody>\n",
       "</table>\n",
       "</div>"
      ],
      "text/plain": [
       "                             BUSINESS_NAME            BUSINESS_NAME2 BUILDING  \\\n",
       "1158                 STARBUCKS CORPORATION  STARBUCKS COFFEE COMPANY     7419   \n",
       "490                                PBQ LLC                  BARBACON      836   \n",
       "1067  HAVATEQUILA RESTAURANT PARTNERS, LLC                    EL VEZ      259   \n",
       "1416                 1414 HOLDINGS, L.L.C.      1 HOTEL CENTRAL PARK     1414   \n",
       "954                           IL SOLE, LLC                  SOLELUNA     4345   \n",
       "\n",
       "                      STREET       CITY    ZIP  SWC_CHAIRS  SWC_SQ_FT  \n",
       "1158                 3RD AVE   BROOKLYN  11209           6      260.0  \n",
       "490                  9TH AVE   NEW YORK  10019           2       78.0  \n",
       "1067                VESEY ST   NEW YORK  10282          38     1253.0  \n",
       "1416  AVENUE OF THE AMERICAS   NEW YORK  10019           8      255.0  \n",
       "954              40TH STREET  SUNNYSIDE  11104          10      312.0  "
      ]
     },
     "execution_count": 18,
     "metadata": {},
     "output_type": "execute_result"
    }
   ],
   "source": [
    "cafes.sort_values(\"chairs_per_sqft\", ascending=True)[[\"BUSINESS_NAME\", \"BUSINESS_NAME2\", \"BUILDING\",\n",
    "                                                  \"STREET\", \"CITY\", \"ZIP\", \"SWC_CHAIRS\", \"SWC_SQ_FT\"]].head()"
   ]
  },
  {
   "cell_type": "markdown",
   "metadata": {},
   "source": [
    "---\n",
    "\n",
    "---\n",
    "\n",
    "---"
   ]
  }
 ],
 "metadata": {
  "kernelspec": {
   "display_name": "Python 2",
   "language": "python",
   "name": "python2"
  },
  "language_info": {
   "codemirror_mode": {
    "name": "ipython",
    "version": 2
   },
   "file_extension": ".py",
   "mimetype": "text/x-python",
   "name": "python",
   "nbconvert_exporter": "python",
   "pygments_lexer": "ipython2",
   "version": "2.7.10"
  }
 },
 "nbformat": 4,
 "nbformat_minor": 0
}
